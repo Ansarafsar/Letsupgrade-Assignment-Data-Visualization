{
  "nbformat": 4,
  "nbformat_minor": 0,
  "metadata": {
    "colab": {
      "name": "DV Assignment-2.ipynb",
      "provenance": [],
      "authorship_tag": "ABX9TyOvihF3NXZrZCqWTxkIbueY",
      "include_colab_link": true
    },
    "kernelspec": {
      "name": "python3",
      "display_name": "Python 3"
    },
    "language_info": {
      "name": "python"
    }
  },
  "cells": [
    {
      "cell_type": "markdown",
      "metadata": {
        "id": "view-in-github",
        "colab_type": "text"
      },
      "source": [
        "<a href=\"https://colab.research.google.com/github/Ansarafsar/Letsupgrade-Assignment-Data-Visualization/blob/main/DV_Assignment_2.ipynb\" target=\"_parent\"><img src=\"https://colab.research.google.com/assets/colab-badge.svg\" alt=\"Open In Colab\"/></a>"
      ]
    },
    {
      "cell_type": "code",
      "metadata": {
        "id": "yaTOWBU62gwG"
      },
      "source": [
        "import numpy as np\n",
        "import pandas as pd\n",
        "import seaborn as sns\n",
        "import matplotlib as mpl\n",
        "import matplotlib.pyplot as plt\n",
        "%matplotlib inline\n",
        "from numpy.random import randn,randint,uniform,sample"
      ],
      "execution_count": 1,
      "outputs": []
    },
    {
      "cell_type": "code",
      "metadata": {
        "colab": {
          "base_uri": "https://localhost:8080/",
          "height": 357
        },
        "id": "NUMmvKZw37tp",
        "outputId": "4295f2cb-58e0-40ba-aee2-773b5875511d"
      },
      "source": [
        "data = pd.DataFrame(randn(10,4), columns = ['a','b','c','d']) #plot bar chart\n",
        "data\n"
      ],
      "execution_count": 2,
      "outputs": [
        {
          "output_type": "execute_result",
          "data": {
            "text/html": [
              "<div>\n",
              "<style scoped>\n",
              "    .dataframe tbody tr th:only-of-type {\n",
              "        vertical-align: middle;\n",
              "    }\n",
              "\n",
              "    .dataframe tbody tr th {\n",
              "        vertical-align: top;\n",
              "    }\n",
              "\n",
              "    .dataframe thead th {\n",
              "        text-align: right;\n",
              "    }\n",
              "</style>\n",
              "<table border=\"1\" class=\"dataframe\">\n",
              "  <thead>\n",
              "    <tr style=\"text-align: right;\">\n",
              "      <th></th>\n",
              "      <th>a</th>\n",
              "      <th>b</th>\n",
              "      <th>c</th>\n",
              "      <th>d</th>\n",
              "    </tr>\n",
              "  </thead>\n",
              "  <tbody>\n",
              "    <tr>\n",
              "      <th>0</th>\n",
              "      <td>1.228753</td>\n",
              "      <td>-0.589550</td>\n",
              "      <td>-0.192992</td>\n",
              "      <td>-0.376774</td>\n",
              "    </tr>\n",
              "    <tr>\n",
              "      <th>1</th>\n",
              "      <td>-1.505736</td>\n",
              "      <td>-0.554647</td>\n",
              "      <td>0.340902</td>\n",
              "      <td>0.731237</td>\n",
              "    </tr>\n",
              "    <tr>\n",
              "      <th>2</th>\n",
              "      <td>0.715821</td>\n",
              "      <td>0.759168</td>\n",
              "      <td>-0.519524</td>\n",
              "      <td>-1.542720</td>\n",
              "    </tr>\n",
              "    <tr>\n",
              "      <th>3</th>\n",
              "      <td>0.166384</td>\n",
              "      <td>0.445246</td>\n",
              "      <td>-0.742934</td>\n",
              "      <td>1.277697</td>\n",
              "    </tr>\n",
              "    <tr>\n",
              "      <th>4</th>\n",
              "      <td>0.062653</td>\n",
              "      <td>1.064027</td>\n",
              "      <td>-1.649106</td>\n",
              "      <td>1.752803</td>\n",
              "    </tr>\n",
              "    <tr>\n",
              "      <th>5</th>\n",
              "      <td>-1.069756</td>\n",
              "      <td>1.116167</td>\n",
              "      <td>1.071136</td>\n",
              "      <td>-1.796272</td>\n",
              "    </tr>\n",
              "    <tr>\n",
              "      <th>6</th>\n",
              "      <td>0.650602</td>\n",
              "      <td>-0.061637</td>\n",
              "      <td>0.721830</td>\n",
              "      <td>0.242941</td>\n",
              "    </tr>\n",
              "    <tr>\n",
              "      <th>7</th>\n",
              "      <td>0.539985</td>\n",
              "      <td>1.943530</td>\n",
              "      <td>1.284434</td>\n",
              "      <td>-0.580404</td>\n",
              "    </tr>\n",
              "    <tr>\n",
              "      <th>8</th>\n",
              "      <td>1.748862</td>\n",
              "      <td>-0.465538</td>\n",
              "      <td>2.215713</td>\n",
              "      <td>2.100551</td>\n",
              "    </tr>\n",
              "    <tr>\n",
              "      <th>9</th>\n",
              "      <td>-1.189475</td>\n",
              "      <td>-0.175036</td>\n",
              "      <td>-0.140345</td>\n",
              "      <td>2.157795</td>\n",
              "    </tr>\n",
              "  </tbody>\n",
              "</table>\n",
              "</div>"
            ],
            "text/plain": [
              "          a         b         c         d\n",
              "0  1.228753 -0.589550 -0.192992 -0.376774\n",
              "1 -1.505736 -0.554647  0.340902  0.731237\n",
              "2  0.715821  0.759168 -0.519524 -1.542720\n",
              "3  0.166384  0.445246 -0.742934  1.277697\n",
              "4  0.062653  1.064027 -1.649106  1.752803\n",
              "5 -1.069756  1.116167  1.071136 -1.796272\n",
              "6  0.650602 -0.061637  0.721830  0.242941\n",
              "7  0.539985  1.943530  1.284434 -0.580404\n",
              "8  1.748862 -0.465538  2.215713  2.100551\n",
              "9 -1.189475 -0.175036 -0.140345  2.157795"
            ]
          },
          "metadata": {
            "tags": []
          },
          "execution_count": 2
        }
      ]
    },
    {
      "cell_type": "code",
      "metadata": {
        "colab": {
          "base_uri": "https://localhost:8080/",
          "height": 604
        },
        "id": "covKYu0j3-6F",
        "outputId": "2cfc8fd8-a7c3-462a-f333-762b7c21995e"
      },
      "source": [
        "data.plot(kind = 'bar', width = 2.5, figsize =(10,10))\n",
        "plt.title('Bar Graph')\n",
        "plt.show()"
      ],
      "execution_count": 3,
      "outputs": [
        {
          "output_type": "display_data",
          "data": {
            "image/png": "[encoded data removed]",
            "text/plain": [
              "<Figure size 720x720 with 1 Axes>"
            ]
          },
          "metadata": {
            "tags": [],
            "needs_background": "light"
          }
        }
      ]
    },
    {
      "cell_type": "code",
      "metadata": {
        "id": "G9QaiHAj4BoW"
      },
      "source": [
        ""
      ],
      "execution_count": null,
      "outputs": []
    }
  ]
}